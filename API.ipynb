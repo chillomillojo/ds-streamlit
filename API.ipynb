{
 "cells": [
  {
   "cell_type": "markdown",
   "metadata": {},
   "source": [
    "# APIs\n",
    "\n",
    "APIs are a set of protocols and tools that allow different software applications to communicate with each other. They have become an essential part of modern software development, enabling developers to build complex systems that integrate with other applications seamlessly.\n",
    "\n",
    "Simple Analogy\n",
    "\n",
    "<img src=\"https://d32myzxfxyl12w.cloudfront.net/assets/images/article_images/602bac42d4b43d46f8ab9b94128e0463a193b649.png?1556265395\" width=\"600\">\n",
    "\n",
    "A REST (Representational State Transfer) API is an architectural style for an API that uses HTTP (Hypertext Transfer Protocol) request methods to access and manipulate data over the Internet. The most popular HTTP request methods (which are explained below) are GET, POST, PUT, DELETE\n",
    "\n",
    "IT Infrastructure Analogy\n",
    "\n",
    "<img src=\"https://restful-api.dev/static/media/REST-API.4e033cc3a53f90d14777.png\" width=\"600\">\n",
    "\n",
    "## HTTP Methods\n",
    "HTTP (Hypertext Transfer Protocol) is a protocol that allows communication between clients and servers on the World Wide Web. The main HTTP Methods are explained below.\n",
    "\n",
    "### GET Request\n",
    "The GET request is one of the HTTP methods which in simple words is in charge of grabbing data from a data source. The response from a GET request can contain data such as a list of items, a single item, or even just a status message. It is used to only retrieve data and not modify it and should not be used to pass sensitive information like passwords.\n",
    "\n",
    "### POST Request\n",
    "The POST request is used to send data to the server from a client to create a new resource. The data which is sent as part of a POST request is encoded in the body of the request and is not visible in the URL, unlike with a GET request.\n",
    "\n",
    "### PUT Request\n",
    "With help of the PUT request, you can update an existing resource. One important thing to keep in mind when you are updating an existing resource via PUT request is that the request body of a PUT request should contain a complete representation of the resource. Even if you want to update one of the several fields of an existing resource, you need to provide a complete representation of the resource and pass it as a request body.\n",
    "\n",
    "### DELETE Request\n",
    "The DELETE request can be used when you want to delete an existing resource from the server. Usually, you specify a resource that you want to delete by providing an ID of a resource as part of the URL parameter.\n",
    "\n",
    "\n",
    "Resource: https://restful-api.dev/"
   ]
  },
  {
   "cell_type": "markdown",
   "metadata": {},
   "source": [
    "# JSON\n",
    "\n",
    "JSON, or JavaScript Object Notation, is a lightweight data interchange format that has become the standard for data exchange between applications. It was originally developed for use with JavaScript, but it's now widely used across different programming languages and platforms.\n",
    "\n",
    "JSON data is represented in a text format and consists of key-value pairs or arrays of data, similar to python dictionaries. These key-value pairs are enclosed in curly braces, and each pair is separated by a comma. The key is always a string, and the value can be a string, number, boolean, null, array, or another JSON object.\n",
    "\n",
    "One of the main advantages of JSON is that it's easy to read and write for both humans and machines. It's also a platform-independent format, which means it can be used across different programming languages and platforms without any issues.\n",
    "\n",
    "JSON is widely used in web development, especially for exchanging data between a web server and a client. It's also used in mobile app development, IoT devices, and many other applications where data needs to be exchanged between different systems. JSON is a popular format for data exchange in APIs due to its simplicity, flexibility, and ease of use. Most modern APIs use JSON as their primary data exchange format. When a client sends a request to an API endpoint, it typically sends JSON data as part of the request body, which the API can then parse and use to process the request. Similarly, when the API returns a response to the client, it usually does so in JSON format, which the client can easily parse and use to display the data. APIs that use JSON as their primary data exchange format are easy to integrate with other systems and platforms, making them a popular choice for building modern applications.\n",
    "\n",
    "Let's look at an example of a JSON object:\n",
    "\n",
    "```json\n",
    "{\n",
    "    \"name\": \"John Doe\",\n",
    "    \"age\": 30,\n",
    "    \"email\": \"john.doe@example.com\",\n",
    "    \"address\": {\n",
    "        \"street\": \"123 Main St\",\n",
    "        \"city\": \"Anytown\",\n",
    "        \"state\": \"CA\",\n",
    "        \"zip\": \"12345\"\n",
    "    },\n",
    "    \"phoneNumbers\": [\n",
    "        {\n",
    "            \"type\": \"home\",\n",
    "            \"number\": \"555-555-1234\"\n",
    "        },\n",
    "        {\n",
    "            \"type\": \"work\",\n",
    "            \"number\": \"555-555-5678\"\n",
    "        }\n",
    "    ],\n",
    "    \"isEmployee\": true,\n",
    "    \"salary\": null\n",
    "}\n",
    "```\n",
    "\n",
    "In this example, we see how a JSON object can contain nested objects and arrays. The outermost object contains a list of key-value pairs, where the key is a string and the value can be a string, number, boolean, null, array, or another JSON object. The ```address``` key contains another JSON object, which in turn contains a list of key-value pairs. Similarly, the ```phoneNumbers``` key contains an array of JSON objects, each of which contains a list of key-value pairs.\n",
    "\n",
    "We can also import this JSON file into a python dictionary using the ```json``` module:"
   ]
  },
  {
   "cell_type": "markdown",
   "metadata": {},
   "source": [
    "### Serializing JSON\n",
    "\n",
    "Using the json library we can use the `dump()` method for writing data to files. There is also a `dumps()` for writing to a Python string.\n",
    "\n",
    "JSON | Python\n",
    "---|---\n",
    "object | dict\n",
    "array | list\n",
    "string | str\n",
    "number (int) | int\n",
    "number (real) | float\n",
    "true | True\n",
    "false | False\n",
    "null | None"
   ]
  },
  {
   "cell_type": "code",
   "execution_count": 18,
   "metadata": {},
   "outputs": [],
   "source": [
    "example_dict = {\n",
    "    \"name\": \"John Doe\",\n",
    "    \"age\": 30,\n",
    "    \"email\": \"john.doe@example.com\",\n",
    "    \"address\": {\n",
    "        \"street\": \"123 Main St\",\n",
    "        \"city\": \"Anytown\",\n",
    "        \"state\": \"CA\",\n",
    "        \"zip\": \"12345\"\n",
    "    },\n",
    "    \"phoneNumbers\": [\n",
    "        {\n",
    "            \"type\": \"home\",\n",
    "            \"number\": \"555-555-1234\"\n",
    "        },\n",
    "        {\n",
    "            \"type\": \"work\",\n",
    "            \"number\": \"555-555-5678\"\n",
    "        }\n",
    "    ],\n",
    "    \"isEmployee\": True,\n",
    "    \"salary\": None\n",
    "}\n"
   ]
  },
  {
   "cell_type": "markdown",
   "metadata": {},
   "source": [
    "Create a file called `example.json` and open it in write mode. (JSON files conveniently end in a .json extension.)"
   ]
  },
  {
   "cell_type": "code",
   "execution_count": 57,
   "metadata": {},
   "outputs": [],
   "source": [
    "import json\n",
    "\n",
    "# example of dump method\n",
    "with open('data/example.json', 'w') as f:\n",
    "    json.dump(example_dict, f)"
   ]
  },
  {
   "cell_type": "code",
   "execution_count": 20,
   "metadata": {},
   "outputs": [
    {
     "name": "stdout",
     "output_type": "stream",
     "text": [
      "{\n",
      "    \"name\": \"John Doe\",\n",
      "    \"age\": 30,\n",
      "    \"email\": \"john.doe@example.com\",\n",
      "    \"address\": {\n",
      "        \"street\": \"123 Main St\",\n",
      "        \"city\": \"Anytown\",\n",
      "        \"state\": \"CA\",\n",
      "        \"zip\": \"12345\"\n",
      "    },\n",
      "    \"phoneNumbers\": [\n",
      "        {\n",
      "            \"type\": \"home\",\n",
      "            \"number\": \"555-555-1234\"\n",
      "        },\n",
      "        {\n",
      "            \"type\": \"work\",\n",
      "            \"number\": \"555-555-5678\"\n",
      "        }\n",
      "    ],\n",
      "    \"isEmployee\": true,\n",
      "    \"salary\": null\n",
      "}\n"
     ]
    }
   ],
   "source": [
    "# example of dumps method\n",
    "json_string = json.dumps(example_dict,indent=4)\n",
    "print(json_string)"
   ]
  },
  {
   "cell_type": "markdown",
   "metadata": {},
   "source": [
    "Notice that the file-like object is absent since you aren’t actually writing to disk. Other than that, `dumps()` is just like `dump()`."
   ]
  },
  {
   "cell_type": "markdown",
   "metadata": {},
   "source": [
    "### Deserializing JSON\n",
    "\n",
    "In the json library we can use the `load()` method for reading data from files. There is also a `loads()` method for reading from a Python string."
   ]
  },
  {
   "cell_type": "markdown",
   "metadata": {},
   "source": [
    "Let's look at the `load()` method, we will load the data that we dump earlier."
   ]
  },
  {
   "cell_type": "code",
   "execution_count": 58,
   "metadata": {},
   "outputs": [
    {
     "name": "stdout",
     "output_type": "stream",
     "text": [
      "{'name': 'John Doe', 'age': 30, 'email': 'john.doe@example.com', 'address': {'street': '123 Main St', 'city': 'Anytown', 'state': 'CA', 'zip': '12345'}, 'phoneNumbers': [{'type': 'home', 'number': '555-555-1234'}, {'type': 'work', 'number': '555-555-5678'}], 'isEmployee': True, 'salary': None}\n"
     ]
    }
   ],
   "source": [
    "# import the data from the JSON file which is in the directory data/example.json\n",
    "with open('data/example.json') as f:\n",
    "    persons = json.load(f) \n",
    "    \n",
    "# print the data\n",
    "print(persons)"
   ]
  },
  {
   "cell_type": "markdown",
   "metadata": {},
   "source": [
    "If you want to extract a specific value from the JSON object, you can use the ```get()``` method:"
   ]
  },
  {
   "cell_type": "code",
   "execution_count": 22,
   "metadata": {},
   "outputs": [
    {
     "name": "stdout",
     "output_type": "stream",
     "text": [
      "John Doe\n"
     ]
    }
   ],
   "source": [
    "print(persons.get('name'))"
   ]
  },
  {
   "cell_type": "markdown",
   "metadata": {},
   "source": [
    "If you want to change the value of a specific key, you can use the ```update()``` method:"
   ]
  },
  {
   "cell_type": "code",
   "execution_count": 23,
   "metadata": {},
   "outputs": [
    {
     "name": "stdout",
     "output_type": "stream",
     "text": [
      "Jane Doe\n"
     ]
    }
   ],
   "source": [
    "persons.update({\"name\": \"Jane Doe\"})\n",
    "print(persons.get(\"name\"))"
   ]
  },
  {
   "cell_type": "code",
   "execution_count": 24,
   "metadata": {},
   "outputs": [
    {
     "data": {
      "text/plain": [
       "\"{'name': 'John Doe', 'age': 30, 'email': 'john.doe@example.com', 'address': {'street': '123 Main St', 'city': 'Anytown', 'state': 'CA', 'zip': '12345'}, 'phoneNumbers': [{'type': 'home', 'number': '555-555-1234'}, {'type': 'work', 'number': '555-555-5678'}], 'isEmployee': True, 'salary': None}\""
      ]
     },
     "execution_count": 24,
     "metadata": {},
     "output_type": "execute_result"
    }
   ],
   "source": [
    "str(example_dict)"
   ]
  },
  {
   "cell_type": "code",
   "execution_count": 25,
   "metadata": {},
   "outputs": [],
   "source": [
    "json_string = '''\n",
    "{\n",
    "        \"name\": \"John Doe\",\n",
    "        \"age\": 30,\n",
    "        \"email\": \"john.doe@example.com\",\n",
    "        \"address\": {\n",
    "            \"street\": \"123 Main St\",\n",
    "            \"city\": \"Anytown\",\n",
    "            \"state\": \"CA\",\n",
    "            \"zip\": \"12345\"\n",
    "        },\n",
    "        \"phoneNumbers\": [\n",
    "            {\n",
    "                \"type\": \"home\",\n",
    "                \"number\": \"555-555-1234\"\n",
    "            },\n",
    "            {\n",
    "                \"type\": \"work\",\n",
    "                \"number\": \"555-555-5678\"\n",
    "            }\n",
    "        ],\n",
    "        \"isEmployee\": true,\n",
    "        \"salary\": null\n",
    "    }\n",
    "'''"
   ]
  },
  {
   "cell_type": "code",
   "execution_count": 26,
   "metadata": {},
   "outputs": [
    {
     "data": {
      "text/plain": [
       "{'name': 'John Doe',\n",
       " 'age': 30,\n",
       " 'email': 'john.doe@example.com',\n",
       " 'address': {'street': '123 Main St',\n",
       "  'city': 'Anytown',\n",
       "  'state': 'CA',\n",
       "  'zip': '12345'},\n",
       " 'phoneNumbers': [{'type': 'home', 'number': '555-555-1234'},\n",
       "  {'type': 'work', 'number': '555-555-5678'}],\n",
       " 'isEmployee': True,\n",
       " 'salary': None}"
      ]
     },
     "execution_count": 26,
     "metadata": {},
     "output_type": "execute_result"
    }
   ],
   "source": [
    "json_load_from_dict = json.loads(json_string)\n",
    "json_load_from_dict"
   ]
  },
  {
   "cell_type": "code",
   "execution_count": 27,
   "metadata": {},
   "outputs": [
    {
     "name": "stdout",
     "output_type": "stream",
     "text": [
      "https://httpbin.org/get?firstName=Arjun&lastName=Haridas\n"
     ]
    }
   ],
   "source": [
    "import requests\n",
    "\n",
    "# get request example\n",
    "payload = {\"firstName\":\"Arjun\",\"lastName\":\"Haridas\"}\n",
    "req = requests.get(\"https://httpbin.org/get\", params=payload)\n",
    "print(req.url) # check also status_code, content, text"
   ]
  },
  {
   "cell_type": "code",
   "execution_count": 28,
   "metadata": {},
   "outputs": [
    {
     "name": "stdout",
     "output_type": "stream",
     "text": [
      "https://httpbin.org/post\n"
     ]
    }
   ],
   "source": [
    "# post request example\n",
    "\n",
    "payload = {\"firstName\":\"Arjun\",\"lastName\":\"Haridas\"}\n",
    "req = requests.post(\"https://httpbin.org/post\", data=payload)\n",
    "print(req.url)"
   ]
  },
  {
   "cell_type": "markdown",
   "metadata": {},
   "source": [
    "### Most common HTTP Status Codes\n",
    "\n",
    "* Status Code 200 – This is the standard “OK” status code for a successful HTTP request. The response that is returned is dependent on the request. For example, for a GET request, the response will be included in the message body. For a PUT/POST request, the response will include the resource that contains the result of the action.\n",
    "* Status Code 201 – This is the status code that confirms that the request was successful and, as a result, a new resource was created. Typically, this is the status code that is sent after a POST/PUT request.\n",
    "* Status Code 400 – The server cannot understand and process a request due to a client error. Missing data, domain validation, and invalid formatting are some examples that cause the status code 400 to be sent.\n",
    "* Status Code 401 – This status code request occurs when authentication is required but has failed or not been provided.\n",
    "* Status Code 404 – The most common status code the average user will see. A status code 404 occurs when the request is valid, but the resource cannot be found on the server. Even though these are grouped in the Client Errors “bucket,” they are often due to improper URL redirection.\n",
    "\n",
    "There are many more status requests that you can take a look [here](https://restfulapi.net/http-status-codes/)\n"
   ]
  },
  {
   "cell_type": "markdown",
   "metadata": {},
   "source": [
    "### API example"
   ]
  },
  {
   "cell_type": "markdown",
   "metadata": {},
   "source": [
    "#### 1. RKI API\n",
    "[Documentation](https://api.corona-zahlen.org/docs/#%E2%98%95%EF%B8%8F-donation)\n",
    "\n",
    "I would like to have a dataframe of COVID incidence numbers in Germany."
   ]
  },
  {
   "cell_type": "code",
   "execution_count": 29,
   "metadata": {},
   "outputs": [],
   "source": [
    "import requests\n",
    "import pandas as pd"
   ]
  },
  {
   "cell_type": "code",
   "execution_count": 30,
   "metadata": {},
   "outputs": [],
   "source": [
    "url = 'https://api.corona-zahlen.org/germany/history/incidence'"
   ]
  },
  {
   "cell_type": "markdown",
   "metadata": {},
   "source": [
    "Basic get command from `requests` (same as week04)"
   ]
  },
  {
   "cell_type": "code",
   "execution_count": 31,
   "metadata": {},
   "outputs": [],
   "source": [
    "response = requests.get(url)"
   ]
  },
  {
   "cell_type": "markdown",
   "metadata": {},
   "source": [
    "Instead of translating the response to text, we translate to JSON"
   ]
  },
  {
   "cell_type": "code",
   "execution_count": 32,
   "metadata": {},
   "outputs": [],
   "source": [
    "rki_data = response.json()"
   ]
  },
  {
   "cell_type": "code",
   "execution_count": 54,
   "metadata": {},
   "outputs": [
    {
     "data": {
      "text/plain": [
       "{'name': 'John Doe',\n",
       " 'age': 30,\n",
       " 'email': 'john.doe@example.com',\n",
       " 'address': {'street': '123 Main St',\n",
       "  'city': 'Anytown',\n",
       "  'state': 'CA',\n",
       "  'zip': '12345'},\n",
       " 'phoneNumbers': [{'type': 'home', 'number': '555-555-1234'},\n",
       "  {'type': 'work', 'number': '555-555-5678'}],\n",
       " 'isEmployee': True,\n",
       " 'salary': None}"
      ]
     },
     "execution_count": 54,
     "metadata": {},
     "output_type": "execute_result"
    }
   ],
   "source": [
    "json_load_from_dict"
   ]
  },
  {
   "cell_type": "code",
   "execution_count": 61,
   "metadata": {},
   "outputs": [
    {
     "data": {
      "text/plain": [
       "{'name': 'John Doe',\n",
       " 'age': 30,\n",
       " 'email': 'john.doe@example.com',\n",
       " 'address': {'street': '123 Main St',\n",
       "  'city': 'Anytown',\n",
       "  'state': 'CA',\n",
       "  'zip': '12345'},\n",
       " 'phoneNumbers': [{'type': 'home', 'number': '555-555-1234'},\n",
       "  {'type': 'work', 'number': '555-555-5678'}],\n",
       " 'isEmployee': True,\n",
       " 'salary': None}"
      ]
     },
     "execution_count": 61,
     "metadata": {},
     "output_type": "execute_result"
    }
   ],
   "source": [
    "persons"
   ]
  },
  {
   "cell_type": "markdown",
   "metadata": {},
   "source": [
    "Turn JSON file into DataFrame"
   ]
  },
  {
   "cell_type": "code",
   "execution_count": 33,
   "metadata": {},
   "outputs": [],
   "source": [
    "rki_df = pd.DataFrame(rki_data['data'])"
   ]
  },
  {
   "cell_type": "markdown",
   "metadata": {},
   "source": [
    "Transform `date` column into DateTime (as in week03)"
   ]
  },
  {
   "cell_type": "code",
   "execution_count": 34,
   "metadata": {},
   "outputs": [],
   "source": [
    "rki_df['date'] = pd.to_datetime(rki_df['date'])"
   ]
  },
  {
   "cell_type": "code",
   "execution_count": 35,
   "metadata": {},
   "outputs": [
    {
     "data": {
      "text/html": [
       "<div>\n",
       "<style scoped>\n",
       "    .dataframe tbody tr th:only-of-type {\n",
       "        vertical-align: middle;\n",
       "    }\n",
       "\n",
       "    .dataframe tbody tr th {\n",
       "        vertical-align: top;\n",
       "    }\n",
       "\n",
       "    .dataframe thead th {\n",
       "        text-align: right;\n",
       "    }\n",
       "</style>\n",
       "<table border=\"1\" class=\"dataframe\">\n",
       "  <thead>\n",
       "    <tr style=\"text-align: right;\">\n",
       "      <th></th>\n",
       "      <th>weekIncidence</th>\n",
       "      <th>date</th>\n",
       "    </tr>\n",
       "  </thead>\n",
       "  <tbody>\n",
       "    <tr>\n",
       "      <th>0</th>\n",
       "      <td>0.001201</td>\n",
       "      <td>2020-01-07 00:00:00+00:00</td>\n",
       "    </tr>\n",
       "    <tr>\n",
       "      <th>1</th>\n",
       "      <td>0.001201</td>\n",
       "      <td>2020-01-08 00:00:00+00:00</td>\n",
       "    </tr>\n",
       "    <tr>\n",
       "      <th>2</th>\n",
       "      <td>0.000000</td>\n",
       "      <td>2020-01-09 00:00:00+00:00</td>\n",
       "    </tr>\n",
       "    <tr>\n",
       "      <th>3</th>\n",
       "      <td>0.000000</td>\n",
       "      <td>2020-01-10 00:00:00+00:00</td>\n",
       "    </tr>\n",
       "    <tr>\n",
       "      <th>4</th>\n",
       "      <td>0.000000</td>\n",
       "      <td>2020-01-11 00:00:00+00:00</td>\n",
       "    </tr>\n",
       "  </tbody>\n",
       "</table>\n",
       "</div>"
      ],
      "text/plain": [
       "   weekIncidence                      date\n",
       "0       0.001201 2020-01-07 00:00:00+00:00\n",
       "1       0.001201 2020-01-08 00:00:00+00:00\n",
       "2       0.000000 2020-01-09 00:00:00+00:00\n",
       "3       0.000000 2020-01-10 00:00:00+00:00\n",
       "4       0.000000 2020-01-11 00:00:00+00:00"
      ]
     },
     "execution_count": 35,
     "metadata": {},
     "output_type": "execute_result"
    }
   ],
   "source": [
    "rki_df.head()"
   ]
  },
  {
   "cell_type": "code",
   "execution_count": 36,
   "metadata": {},
   "outputs": [
    {
     "data": {
      "image/png": "[encoded data removed]",
      "text/plain": [
       "<Figure size 640x480 with 1 Axes>"
      ]
     },
     "metadata": {},
     "output_type": "display_data"
    }
   ],
   "source": [
    "import seaborn as sns\n",
    "import matplotlib.pyplot as plt \n",
    "\n",
    "plot = sns.lineplot(data=rki_df, x='date', y='weekIncidence')\n",
    "plt.xticks(rotation=35);"
   ]
  },
  {
   "cell_type": "markdown",
   "metadata": {},
   "source": [
    "#### 2. VBB API\n",
    "[Documentation](https://v5.vbb.transport.rest/api.html)\n",
    "\n",
    "I would like to know how to get from the old SPICED campus to the new SPICED campus; e.g. in the format of `(start, stop, line)`."
   ]
  },
  {
   "cell_type": "code",
   "execution_count": 37,
   "metadata": {},
   "outputs": [],
   "source": [
    "spiced_old = 'https://v5.vbb.transport.rest/locations?poi=false&addresses=false&query=ullsteinstrasse'"
   ]
  },
  {
   "cell_type": "code",
   "execution_count": 38,
   "metadata": {},
   "outputs": [],
   "source": [
    "spiced_new = 'https://v5.vbb.transport.rest/locations?poi=false&addresses=false&fuzzy=false&query=moritzplatz'"
   ]
  },
  {
   "cell_type": "code",
   "execution_count": 39,
   "metadata": {},
   "outputs": [],
   "source": [
    "response = requests.get(spiced_new)"
   ]
  },
  {
   "cell_type": "code",
   "execution_count": 40,
   "metadata": {
    "tags": []
   },
   "outputs": [
    {
     "data": {
      "text/plain": [
       "[{'type': 'stop',\n",
       "  'id': '900000013101',\n",
       "  'name': 'U Moritzplatz',\n",
       "  'location': {'type': 'location',\n",
       "   'id': '900013101',\n",
       "   'latitude': 52.503737,\n",
       "   'longitude': 13.410944},\n",
       "  'products': {'suburban': False,\n",
       "   'subway': True,\n",
       "   'tram': False,\n",
       "   'bus': True,\n",
       "   'ferry': False,\n",
       "   'express': False,\n",
       "   'regional': False},\n",
       "  'stationDHID': 'de:11000:900013101'},\n",
       " {'type': 'stop',\n",
       "  'id': '900000057107',\n",
       "  'name': 'Dennewitzplatz',\n",
       "  'location': {'type': 'location',\n",
       "   'id': '900057107',\n",
       "   'latitude': 52.495907,\n",
       "   'longitude': 13.366223},\n",
       "  'products': {'suburban': False,\n",
       "   'subway': False,\n",
       "   'tram': False,\n",
       "   'bus': True,\n",
       "   'ferry': False,\n",
       "   'express': False,\n",
       "   'regional': False},\n",
       "  'stationDHID': 'de:11000:900057107'},\n",
       " {'type': 'stop',\n",
       "  'id': '900000215724',\n",
       "  'name': 'Pritzwalk, Bürgerplatz',\n",
       "  'location': {'type': 'location',\n",
       "   'id': '900215724',\n",
       "   'latitude': 53.153171,\n",
       "   'longitude': 12.172922},\n",
       "  'products': {'suburban': False,\n",
       "   'subway': False,\n",
       "   'tram': False,\n",
       "   'bus': True,\n",
       "   'ferry': False,\n",
       "   'express': False,\n",
       "   'regional': False},\n",
       "  'stationDHID': 'de:12070:900215724'},\n",
       " {'type': 'stop',\n",
       "  'id': '900000210681',\n",
       "  'name': 'Dallgow-Döberitz, Am Reitplatz',\n",
       "  'location': {'type': 'location',\n",
       "   'id': '900210681',\n",
       "   'latitude': 52.536862,\n",
       "   'longitude': 13.076222},\n",
       "  'products': {'suburban': False,\n",
       "   'subway': False,\n",
       "   'tram': False,\n",
       "   'bus': True,\n",
       "   'ferry': False,\n",
       "   'express': False,\n",
       "   'regional': False},\n",
       "  'stationDHID': 'de:12063:900210681'},\n",
       " {'type': 'stop',\n",
       "  'id': '900000210648',\n",
       "  'name': 'Dallgow-Döberitz, Goetheplatz',\n",
       "  'location': {'type': 'location',\n",
       "   'id': '900210648',\n",
       "   'latitude': 52.545878,\n",
       "   'longitude': 13.064059},\n",
       "  'products': {'suburban': False,\n",
       "   'subway': False,\n",
       "   'tram': False,\n",
       "   'bus': True,\n",
       "   'ferry': False,\n",
       "   'express': False,\n",
       "   'regional': False},\n",
       "  'stationDHID': 'de:12063:900210648'}]"
      ]
     },
     "execution_count": 40,
     "metadata": {},
     "output_type": "execute_result"
    }
   ],
   "source": [
    "response.json()"
   ]
  },
  {
   "cell_type": "markdown",
   "metadata": {},
   "source": [
    "Old campus: `900000069271`\n",
    "\n",
    "New campus: `900000013101`"
   ]
  },
  {
   "cell_type": "code",
   "execution_count": 41,
   "metadata": {},
   "outputs": [],
   "source": [
    "journey_url = 'https://v5.vbb.transport.rest/journeys?from=900000069271&to=900000013101'"
   ]
  },
  {
   "cell_type": "code",
   "execution_count": 42,
   "metadata": {},
   "outputs": [],
   "source": [
    "response = requests.get(journey_url)"
   ]
  },
  {
   "cell_type": "code",
   "execution_count": 43,
   "metadata": {},
   "outputs": [
    {
     "data": {
      "text/plain": [
       "dict_keys(['type', 'legs', 'refreshToken', 'cycle'])"
      ]
     },
     "execution_count": 43,
     "metadata": {},
     "output_type": "execute_result"
    }
   ],
   "source": [
    "response.json()['journeys'][1].keys()"
   ]
  },
  {
   "cell_type": "code",
   "execution_count": 44,
   "metadata": {},
   "outputs": [],
   "source": [
    "legs = response.json()['journeys'][0]['legs']"
   ]
  },
  {
   "cell_type": "code",
   "execution_count": 45,
   "metadata": {
    "tags": []
   },
   "outputs": [
    {
     "data": {
      "text/plain": [
       "{'origin': {'type': 'stop',\n",
       "  'id': '900000069271',\n",
       "  'name': 'U Ullsteinstr.',\n",
       "  'location': {'type': 'location',\n",
       "   'id': '900069271',\n",
       "   'latitude': 52.453451,\n",
       "   'longitude': 13.384767},\n",
       "  'products': {'suburban': False,\n",
       "   'subway': True,\n",
       "   'tram': False,\n",
       "   'bus': True,\n",
       "   'ferry': False,\n",
       "   'express': False,\n",
       "   'regional': False},\n",
       "  'stationDHID': 'de:11000:900069271'},\n",
       " 'destination': {'type': 'stop',\n",
       "  'id': '900000012102',\n",
       "  'name': 'U Kochstr./Checkpoint Charlie',\n",
       "  'location': {'type': 'location',\n",
       "   'id': '900012102',\n",
       "   'latitude': 52.506676,\n",
       "   'longitude': 13.390862},\n",
       "  'products': {'suburban': False,\n",
       "   'subway': True,\n",
       "   'tram': False,\n",
       "   'bus': True,\n",
       "   'ferry': False,\n",
       "   'express': False,\n",
       "   'regional': False},\n",
       "  'stationDHID': 'de:11000:900012102'},\n",
       " 'departure': '2024-07-03T14:52:00+02:00',\n",
       " 'plannedDeparture': '2024-07-03T14:52:00+02:00',\n",
       " 'departureDelay': 0,\n",
       " 'arrival': '2024-07-03T15:04:00+02:00',\n",
       " 'plannedArrival': '2024-07-03T15:04:00+02:00',\n",
       " 'arrivalDelay': 0,\n",
       " 'reachable': True,\n",
       " 'tripId': '1|68936|0|86|3072024',\n",
       " 'line': {'type': 'line',\n",
       "  'id': 'u6',\n",
       "  'fahrtNr': '19586',\n",
       "  'name': 'U6',\n",
       "  'public': True,\n",
       "  'adminCode': 'BVU',\n",
       "  'productName': 'U',\n",
       "  'mode': 'train',\n",
       "  'product': 'subway',\n",
       "  'operator': {'type': 'operator',\n",
       "   'id': 'berliner-verkehrsbetriebe',\n",
       "   'name': 'Berliner Verkehrsbetriebe'},\n",
       "  'symbol': 'U',\n",
       "  'nr': 6,\n",
       "  'metro': False,\n",
       "  'express': False,\n",
       "  'night': False,\n",
       "  'color': {'fg': '#fff', 'bg': '#6d61f2'}},\n",
       " 'direction': 'Kurt-Schumacher-Platz',\n",
       " 'currentLocation': {'type': 'location',\n",
       "  'latitude': 52.446916,\n",
       "  'longitude': 13.385594},\n",
       " 'arrivalPlatform': '2',\n",
       " 'plannedArrivalPlatform': '2',\n",
       " 'arrivalPrognosisType': 'prognosed',\n",
       " 'departurePlatform': '2',\n",
       " 'plannedDeparturePlatform': '2',\n",
       " 'departurePrognosisType': 'prognosed',\n",
       " 'cycle': {'min': 240, 'max': 300, 'nr': 28}}"
      ]
     },
     "execution_count": 45,
     "metadata": {},
     "output_type": "execute_result"
    }
   ],
   "source": [
    "legs[0]"
   ]
  },
  {
   "cell_type": "code",
   "execution_count": 46,
   "metadata": {},
   "outputs": [
    {
     "name": "stdout",
     "output_type": "stream",
     "text": [
      "U Ullsteinstr. U Kochstr./Checkpoint Charlie U6\n",
      "U Kochstr./Checkpoint Charlie U Moritzplatz M29\n"
     ]
    }
   ],
   "source": [
    "for leg in legs:\n",
    "    if 'line' in leg:\n",
    "        print(leg['origin']['name'], \n",
    "              leg['destination']['name'], \n",
    "              leg['line']['name'])"
   ]
  }
 ],
 "metadata": {
  "kernelspec": {
   "display_name": "Python 3 (ipykernel)",
   "language": "python",
   "name": "python3"
  },
  "language_info": {
   "codemirror_mode": {
    "name": "ipython",
    "version": 3
   },
   "file_extension": ".py",
   "mimetype": "text/x-python",
   "name": "python",
   "nbconvert_exporter": "python",
   "pygments_lexer": "ipython3",
   "version": "3.11.3"
  }
 },
 "nbformat": 4,
 "nbformat_minor": 4
}
